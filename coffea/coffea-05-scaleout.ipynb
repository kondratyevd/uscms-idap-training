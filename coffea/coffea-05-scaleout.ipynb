{
 "cells": [
  {
   "cell_type": "code",
   "execution_count": null,
   "id": "6ecec3ca",
   "metadata": {},
   "outputs": [],
   "source": [
    "import awkward as ak\n",
    "import dask\n",
    "import hist\n",
    "from hist.dask import Hist\n",
    "import json\n",
    "from coffea import processor\n",
    "from coffea.nanoevents import BaseSchema, NanoAODSchema \n",
    "from coffea.dataset_tools import apply_to_dataset, apply_to_fileset, preprocess, rucio_utils\n",
    "from coffea.dataset_tools import max_chunks, max_files, slice_chunks, slice_files\n",
    "import corrections\n",
    "import matplotlib.pyplot as plt\n",
    "\n",
    "\n",
    "class MyZPeak(processor.ProcessorABC):\n",
    "    def process(self, events):\n",
    "        dataset = events.metadata['dataset']\n",
    "        isRealData = \"genWeight\" not in events.fields\n",
    "        sumw = 0. if isRealData else ak.sum(events.genWeight, axis=0)\n",
    "        cutflow = {\"start\": ak.num(events, axis=0)}\n",
    "        \n",
    "        if isRealData:\n",
    "            events = events[\n",
    "                corrections.lumimask(events.run, events.luminosityBlock)\n",
    "            ]\n",
    "            cutflow[\"lumimask\"] = ak.num(events, axis=0)\n",
    "    \n",
    "        events[\"goodmuons\"] = events.Muon[\n",
    "            (events.Muon.pt >= 20.)\n",
    "            & events.Muon.tightId\n",
    "        ]\n",
    "\n",
    "        events = events[\n",
    "            (ak.num(events.goodmuons) == 2)\n",
    "            & (ak.sum(events.goodmuons.charge, axis=1) == 0)\n",
    "        ]\n",
    "        cutflow[\"ossf\"] = ak.num(events, axis=0)\n",
    "        \n",
    "        # add first and second muon p4 in every event together\n",
    "        events[\"zcand\"] = events.goodmuons[:, 0] + events.goodmuons[:, 1]\n",
    "\n",
    "        # require trigger\n",
    "        events = events[\n",
    "            # https://twiki.cern.ch/twiki/bin/view/CMS/MuonHLT2018\n",
    "            events.HLT.Mu17_TrkIsoVVL_Mu8_TrkIsoVVL_DZ_Mass3p8\n",
    "        ]\n",
    "        weight = 1 * ak.ones_like(events.event) if isRealData else events.genWeight\n",
    "        cutflow[\"trigger\"] = ak.num(events, axis=0)\n",
    "\n",
    "        return {\n",
    "                \"entries\": ak.num(events, axis=0),\n",
    "                \"sumw\": sumw,\n",
    "                \"cutflow\": cutflow,\n",
    "                \"mass\": (\n",
    "                    Hist.new\n",
    "                    .Reg(120, 0., 120., label=\"$m_{\\mu\\mu}$ [GeV]\")\n",
    "                    .Weight()\n",
    "                    .fill(events.zcand.mass, weight=weight)\n",
    "                )\n",
    "            }\n",
    "\n",
    "    def postprocess(self, accumulator):\n",
    "        return accumulator"
   ]
  },
  {
   "cell_type": "code",
   "execution_count": null,
   "id": "ef8ed89c-606f-4d6b-9ee8-65fc51a39bbb",
   "metadata": {
    "tags": []
   },
   "outputs": [],
   "source": [
    "from dask.distributed import Client\n",
    "\n",
    "client = Client()\n",
    "client"
   ]
  },
  {
   "cell_type": "code",
   "execution_count": null,
   "id": "6e4fa5b5",
   "metadata": {},
   "outputs": [],
   "source": [
    "import shutil\n",
    "shutil.make_archive(\"corrections\", \"zip\", base_dir=\"corrections\")"
   ]
  },
  {
   "cell_type": "code",
   "execution_count": null,
   "id": "5954b16e-1e8c-4280-af62-c487a2b49d69",
   "metadata": {},
   "outputs": [],
   "source": [
    "client.upload_file(\"corrections.zip\")"
   ]
  },
  {
   "cell_type": "code",
   "execution_count": null,
   "id": "1645956d-00ce-4fee-b521-8296097a5a08",
   "metadata": {
    "tags": []
   },
   "outputs": [],
   "source": [
    "with open(\"fileset.json\", \"rt\") as file:\n",
    "    initial_fileset = json.load(file)"
   ]
  },
  {
   "cell_type": "code",
   "execution_count": null,
   "id": "5fca39dc-246a-424a-8e43-4b0771d766ae",
   "metadata": {},
   "outputs": [],
   "source": [
    "# Warning: you need to initialize VOMS proxy (voms-proxy-init) before running this cell!\n",
    "preprocessed_available, preprocessed_total = preprocess(\n",
    "        initial_fileset,\n",
    "        step_size=100_000,\n",
    "        align_clusters=None,\n",
    "        skip_bad_files=True,\n",
    "        recalculate_steps=False,\n",
    "        files_per_batch=1,\n",
    "        file_exceptions=(OSError,),\n",
    "        save_form=True,\n",
    "        uproot_options={},\n",
    "        step_size_safety_factor=0.5,\n",
    "    )\n",
    "    #with gzip.open(f\"{output_file}_available.json.gz\", \"wt\") as file:\n",
    "    #    print(f\"Saved available fileset chunks to {output_file}_available.json.gz\")"
   ]
  },
  {
   "cell_type": "code",
   "execution_count": null,
   "id": "1d7762d7-e4d3-45ee-acda-eb816ef47e42",
   "metadata": {},
   "outputs": [],
   "source": [
    "test_preprocessed_files = max_files(preprocessed_available, 5)\n",
    "test_preprocessed = max_chunks(test_preprocessed_files, 7)"
   ]
  },
  {
   "cell_type": "code",
   "execution_count": null,
   "id": "ad9fd74e-ee15-4d10-8822-6729325d7749",
   "metadata": {},
   "outputs": [],
   "source": [
    "small_tg, small_rep = apply_to_fileset(data_manipulation=MyZPeak(),\n",
    "                            fileset=test_preprocessed,\n",
    "                            schemaclass=NanoAODSchema,\n",
    "                            uproot_options={\"allow_read_errors_with_report\": (OSError, KeyError)},\n",
    "                           )"
   ]
  },
  {
   "cell_type": "code",
   "execution_count": null,
   "id": "50367b4a-9f05-4fd5-bfb7-d2d573f0ca80",
   "metadata": {
    "tags": []
   },
   "outputs": [],
   "source": [
    "small_result, small_report = dask.compute(small_tg, small_rep)"
   ]
  },
  {
   "cell_type": "code",
   "execution_count": null,
   "id": "577b9792-b3aa-4f41-b5b4-940d43aedf9c",
   "metadata": {
    "tags": []
   },
   "outputs": [],
   "source": [
    "small_result"
   ]
  },
  {
   "cell_type": "code",
   "execution_count": null,
   "id": "cb1af3a6-1c44-4acf-b8c0-44441091332a",
   "metadata": {
    "tags": []
   },
   "outputs": [],
   "source": [
    "def total_data(events):\n",
    "    isRealData = \"genWeight\" not in events.fields\n",
    "    if isRealData:\n",
    "        return ak.num(events, axis=0)\n",
    "    else:\n",
    "        return -1"
   ]
  },
  {
   "cell_type": "code",
   "execution_count": null,
   "id": "fd0c1e3f-4992-432c-955f-168dfe978f52",
   "metadata": {
    "tags": []
   },
   "outputs": [],
   "source": [
    "dfd, _ = apply_to_fileset(data_manipulation=total_data,\n",
    "                                     fileset=preprocessed_available,\n",
    "                                     schemaclass=NanoAODSchema,\n",
    "                                     uproot_options={\"allow_read_errors_with_report\": (OSError, KeyError)},\n",
    "                                    )"
   ]
  },
  {
   "cell_type": "code",
   "execution_count": null,
   "id": "3be3894b-0029-45d6-98da-ed727e761e55",
   "metadata": {
    "tags": []
   },
   "outputs": [],
   "source": [
    "data_fraction_num = small_result[\"DoubleMuon2018A\"][\"cutflow\"][\"start\"]\n",
    "data_fraction_den = dfd[\"DoubleMuon2018A\"].compute()\n",
    "data_fraction = data_fraction_num / data_fraction_den\n",
    "print(data_fraction)"
   ]
  },
  {
   "cell_type": "code",
   "execution_count": null,
   "id": "c89aa2b9-ac03-4d63-82de-dd1506dfe18b",
   "metadata": {
    "tags": []
   },
   "outputs": [],
   "source": [
    "data = small_result[\"DoubleMuon2018A\"][\"mass\"]\n",
    "\n",
    "lumi = 14.0\n",
    "#xsweight = lumi * 1e3 * 6225.42 * data_fraction / small_result[\"ZJets2018\"][\"cutflow\"][\"start\"]\n",
    "xsweight = lumi * 1e3 * 6225.42 * data_fraction / small_result[\"ZJets2018\"][\"sumw\"]\n",
    "sim = small_result[\"ZJets2018\"][\"mass\"] * xsweight"
   ]
  },
  {
   "cell_type": "code",
   "execution_count": null,
   "id": "7149f305-8505-4a9c-bb7a-cd9af31d5a34",
   "metadata": {
    "tags": []
   },
   "outputs": [],
   "source": [
    "fig, ax = plt.subplots()\n",
    "sim.plot(ax=ax, histtype=\"fill\", label=\"Z+jets\")\n",
    "data.plot(ax=ax, histtype=\"errorbar\", color=\"k\", label=\"Data\")\n",
    "ax.set_xlim(60, 120)\n",
    "ax.legend()"
   ]
  }
 ],
 "metadata": {
  "kernelspec": {
   "display_name": "HATS 2024",
   "language": "python",
   "name": "hats2024"
  },
  "language_info": {
   "codemirror_mode": {
    "name": "ipython",
    "version": 3
   },
   "file_extension": ".py",
   "mimetype": "text/x-python",
   "name": "python",
   "nbconvert_exporter": "python",
   "pygments_lexer": "ipython3",
   "version": "3.12.4"
  }
 },
 "nbformat": 4,
 "nbformat_minor": 5
}
