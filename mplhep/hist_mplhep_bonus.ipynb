{
 "cells": [
  {
   "cell_type": "markdown",
   "id": "3282cb21",
   "metadata": {},
   "source": [
    "# Plotting Basics - IRIS-HEP Analysis Training "
   ]
  },
  {
   "cell_type": "markdown",
   "id": "b0cf40cd",
   "metadata": {},
   "source": [
    "### Histograms mean different things in different contexts\n",
    "- counts, bin edges - useful for a bar plot - `np.histogram` / `plt.bar`\n",
    "- counts, bin edges, pre computed errors - `TGraphErrors`/`plt.errorbar`\n",
    "- weighted values, weights squared, bin_edges - proper error calculation `TH1`/`Coffea.hist`/`hist`"
   ]
  },
  {
   "cell_type": "markdown",
   "id": "f1bf8e9d",
   "metadata": {},
   "source": [
    "## UHI - [Unified Histogram Interface](https://uhi.readthedocs.io/en/latest/plotting.html#using-the-protocol)\n",
    "- (Plottable) Histogram protocol - designed to make libraries interoperable, easy to navigate\n",
    "  - Conformed to by `hits`, `mplhep`, `uproot4`, `histoprint`\n",
    "- Each UHI histogram has the following methods\n",
    "  - `h.values()`: The value (as given by the kind)\n",
    "  - `h.variances()`: The variance in the value (None if an unweighed histogram was filled with weights)\n",
    "  - `h.counts()`: How many fills the bin received or the effective number of fills if the histogram is weighted\n",
    "  - `h.axes`: A Sequence of axes\n",
    "  - and a few other properties"
   ]
  },
  {
   "cell_type": "markdown",
   "id": "b54dd272",
   "metadata": {},
   "source": [
    "## [hist](https://github.com/scikit-hep/hist)\n",
    "- python go to one-stop for histogramming\n",
    "- extends [boost-histogram](https://github.com/scikit-hep/boost-histogram.html) (pythonic wrapper for C++ library - *FAST*)\n",
    "  - makes it user friendly\n",
    "- shortcuts for convenience - plotting/fitting"
   ]
  },
  {
   "cell_type": "markdown",
   "id": "7d8c4da0",
   "metadata": {},
   "source": [
    "## [mplhep](https://github.com/scikit-hep/mplhep)\n",
    "- build on top of `matplotlib`\n",
    "- extends functionality to easily plot histograms from various inputs\n",
    "- holds style sheets for easy experiment specific style application"
   ]
  },
  {
   "cell_type": "raw",
   "id": "a53a5977",
   "metadata": {},
   "source": [
    "!pip install mplhep --upgrade"
   ]
  },
  {
   "cell_type": "raw",
   "id": "89d2bb05",
   "metadata": {},
   "source": [
    "%pip install --user scikit-hep_testdata"
   ]
  },
  {
   "cell_type": "markdown",
   "id": "1ae6d07c",
   "metadata": {},
   "source": [
    "# Outline"
   ]
  },
  {
   "cell_type": "markdown",
   "id": "27e1fe78",
   "metadata": {},
   "source": [
    " - Short matplotlib info\n",
    " - Histogramming in matplotlib\n",
    " - `mplhep` - basic example\n",
    " - `hist` - basic examples and indexing with UHI\n",
    " - Analysis style example\n",
    " \n",
    " \n",
    " "
   ]
  },
  {
   "cell_type": "markdown",
   "id": "2ace763a",
   "metadata": {},
   "source": [
    "# Two ways of matplotlib"
   ]
  },
  {
   "cell_type": "code",
   "execution_count": null,
   "id": "cc1c046a",
   "metadata": {},
   "outputs": [],
   "source": [
    "import numpy as np\n",
    "import matplotlib.pyplot as plt"
   ]
  },
  {
   "cell_type": "markdown",
   "id": "9ec874b5",
   "metadata": {},
   "source": [
    "### Stateful"
   ]
  },
  {
   "cell_type": "code",
   "execution_count": null,
   "id": "59a85207",
   "metadata": {},
   "outputs": [],
   "source": [
    "plt.plot(np.arange(0, 10, 1), np.linspace(0, 1, 10))\n",
    "# plt.title(\"Test\")\n",
    "# plt.legend()"
   ]
  },
  {
   "cell_type": "markdown",
   "id": "7b9da32d",
   "metadata": {},
   "source": [
    "### Object-oriented"
   ]
  },
  {
   "cell_type": "code",
   "execution_count": null,
   "id": "24094f56",
   "metadata": {},
   "outputs": [],
   "source": [
    "fig, ax = plt.subplots()"
   ]
  },
  {
   "cell_type": "code",
   "execution_count": null,
   "id": "691466c5",
   "metadata": {},
   "outputs": [],
   "source": [
    "ax.plot(np.linspace(0, 1, 10), np.linspace(0, 10, 10))"
   ]
  },
  {
   "cell_type": "code",
   "execution_count": null,
   "id": "4061af50",
   "metadata": {},
   "outputs": [],
   "source": [
    "fig"
   ]
  },
  {
   "cell_type": "markdown",
   "id": "4a23b9da",
   "metadata": {},
   "source": [
    "## Switching back and forth"
   ]
  },
  {
   "cell_type": "code",
   "execution_count": null,
   "id": "29544dea",
   "metadata": {},
   "outputs": [],
   "source": [
    "fig, ax = plt.subplots()\n",
    "ax.stairs([1,2,3,4,3,2,1])\n",
    "plt.title(\"TEST\")"
   ]
  },
  {
   "cell_type": "code",
   "execution_count": null,
   "id": "475bf28e",
   "metadata": {},
   "outputs": [],
   "source": [
    "plt.stairs([1,2,3,4,3,2,1])\n",
    "ax = plt.gca()\n",
    "ax.set_title(\"TEST\")"
   ]
  },
  {
   "cell_type": "markdown",
   "id": "25e06371",
   "metadata": {},
   "source": [
    "# Histogramming in matplotlib"
   ]
  },
  {
   "cell_type": "code",
   "execution_count": null,
   "id": "b29bd542",
   "metadata": {},
   "outputs": [],
   "source": [
    "fig, ax = plt.subplots()\n",
    "ax.stairs([1,2,3,4,2,1,0])"
   ]
  },
  {
   "cell_type": "code",
   "execution_count": null,
   "id": "9b656bd1",
   "metadata": {},
   "outputs": [],
   "source": [
    "fig, ax = plt.subplots()\n",
    "ax.stairs([1,2,3,4,2,1,0], baseline=0, fill=True)"
   ]
  },
  {
   "cell_type": "code",
   "execution_count": null,
   "id": "30ff295c",
   "metadata": {},
   "outputs": [],
   "source": [
    "a, b = [1,2,3,4,2,1,0], [1,2,3,2,2,3,1]\n",
    "\n",
    "fig, ax = plt.subplots()\n",
    "ax.stairs(a, label=\"A\")\n",
    "ax.stairs(b, label='B', ls='--')\n",
    "plt.legend()"
   ]
  },
  {
   "cell_type": "code",
   "execution_count": null,
   "id": "c569c6ba",
   "metadata": {},
   "outputs": [],
   "source": [
    "fig, ax = plt.subplots()\n",
    "ax.stairs(np.sum([a,b], axis=0), baseline=b, fill=True, label=\"A\")\n",
    "ax.stairs(b, fill=True, label='B')\n",
    "plt.legend()"
   ]
  },
  {
   "cell_type": "markdown",
   "id": "4b7f75ee",
   "metadata": {},
   "source": [
    "## Other histogramming methods"
   ]
  },
  {
   "cell_type": "code",
   "execution_count": null,
   "id": "ce98e3b4",
   "metadata": {},
   "outputs": [],
   "source": [
    "fig, axs = plt.subplots(2, 2, figsize=(10, 10))\n",
    "axs = axs.flatten()\n",
    "\n",
    "# in-situ np.histogram()\n",
    "axs[0].hist(np.random.normal(5, 1, 10000));\n",
    "\n",
    "# bar plots\n",
    "# axs[1].bar([1,2,3], [2,3,4])  # (x-position), bin-value);\n",
    "\n",
    "# step - skyline\n",
    "# axs[2].step(np.arange(0, 5, 1), [2,3,4,2,1], where='post');\n",
    "\n",
    "# filled\n",
    "# axs[3].fill_between(np.arange(0, 5, 1), [2,3,4,2, 1], step='post');"
   ]
  },
  {
   "cell_type": "markdown",
   "id": "7b629167",
   "metadata": {},
   "source": [
    "# Better histogramming - mplhep"
   ]
  },
  {
   "cell_type": "code",
   "execution_count": null,
   "id": "7c5f650d",
   "metadata": {},
   "outputs": [],
   "source": [
    "import mplhep as hep"
   ]
  },
  {
   "cell_type": "code",
   "execution_count": null,
   "id": "a6de4c41",
   "metadata": {},
   "outputs": [],
   "source": [
    "yields, bins = np.histogram(np.random.normal(5, 1, 5000), bins=10)"
   ]
  },
  {
   "cell_type": "code",
   "execution_count": null,
   "id": "1bc69ad6",
   "metadata": {},
   "outputs": [],
   "source": [
    "hep.histplot(yields)"
   ]
  },
  {
   "cell_type": "markdown",
   "id": "ab50a470",
   "metadata": {},
   "source": [
    "### Primary goal is to stay unobtrusive, if it works in `matplotlib`, it should work in `mplhep`"
   ]
  },
  {
   "cell_type": "code",
   "execution_count": null,
   "id": "164e5e82",
   "metadata": {},
   "outputs": [],
   "source": [
    "import mplhep as hep\n",
    "f, axs = plt.subplots(1,2, figsize=(12, 4))\n",
    "\n",
    "hep.histplot(yields, ax=axs[0])\n",
    "hep.histplot(yields, bins, yerr=True, ax=axs[1]);"
   ]
  },
  {
   "cell_type": "markdown",
   "id": "6c05c4e7",
   "metadata": {},
   "source": [
    "### Kwargs are passed though to `matplotlib`"
   ]
  },
  {
   "cell_type": "code",
   "execution_count": null,
   "id": "ec368883",
   "metadata": {},
   "outputs": [],
   "source": [
    "f, axs = plt.subplots(1,2, figsize=(12, 4))\n",
    "\n",
    "hep.histplot(yields, ax=axs[0], histtype='fill', hatch='///', edgecolor='red', facecolor='none')\n",
    "hep.histplot(yields, ax=axs[1], histtype='errorbar', yerr=True, c='black', capsize=4)"
   ]
  },
  {
   "cell_type": "markdown",
   "id": "cd51024b",
   "metadata": {},
   "source": [
    "### Stacking, norming is available"
   ]
  },
  {
   "cell_type": "code",
   "execution_count": null,
   "id": "93c9d199",
   "metadata": {},
   "outputs": [],
   "source": [
    "h = yields\n",
    "f, axs = plt.subplots(1,3, figsize=(18, 4))\n",
    "\n",
    "data = np.random.poisson(h*3)\n",
    "hep.histplot([h, h*2], bins=bins, ax=axs[0], yerr=True, label=[\"MC1\", \"MC2\"])\n",
    "hep.histplot(data, bins=bins, ax=axs[1], yerr=True, label=\"Data\")\n",
    "\n",
    "hep.histplot([h, h*2], bins=bins, ax=axs[2], stack=True, label=[\"MC1\", \"MC2\"], density=True)\n",
    "hep.histplot(data, bins=bins, ax=axs[2], yerr=True, histtype='errorbar', label=\"Data\", density=True, color='k')\n",
    "for ax in axs:\n",
    "    ax.legend()\n",
    "axs[0].set_title(\"Some MCs\")\n",
    "axs[1].set_title(\"Draw Poisson Data\")\n",
    "axs[2].set_title(\"Data/MC Shape comparison\"); "
   ]
  },
  {
   "cell_type": "markdown",
   "id": "ce45a23d",
   "metadata": {},
   "source": [
    "### Convenient sorting options"
   ]
  },
  {
   "cell_type": "code",
   "execution_count": null,
   "id": "e0990172",
   "metadata": {},
   "outputs": [],
   "source": [
    "f, axs = plt.subplots(1,2, figsize=(12, 4))\n",
    "hep.histplot([h*2, h*3, h], bins=bins, ax=axs[0], stack=True, histtype='fill', label=[\"A\", \"B\", \"C\"], sort='yield');\n",
    "hep.histplot([h*2, h*3, h], bins=bins, ax=axs[1], stack=True, histtype='fill', label=[\"A\", \"B\", \"C\"], sort='label_r');\n",
    "for ax in axs:\n",
    "    ax.legend()\n",
    "axs[0].set_title(\"Sort by yield\")\n",
    "axs[1].set_title(\"Sort by label (add _r to reverse)\");"
   ]
  },
  {
   "cell_type": "code",
   "execution_count": null,
   "id": "e492b221",
   "metadata": {},
   "outputs": [],
   "source": [
    "## Uproot TH1 \n",
    "import uproot\n",
    "from skhep_testdata import data_path\n",
    "fname = data_path(\"uproot-hepdata-example.root\")\n",
    "f = uproot.open(fname)\n",
    "print(f.keys())\n",
    "print(f['hpx'])\n",
    "hep.histplot(f['hpx']);"
   ]
  },
  {
   "cell_type": "code",
   "execution_count": null,
   "id": "a1563b8f",
   "metadata": {},
   "outputs": [],
   "source": [
    "# PyROOT TH1\n",
    "import ROOT\n",
    "h = ROOT.TH1F(\"h1\", \"h1\", 50, -2.5, 2.5)\n",
    "h.FillRandom(\"gaus\", 10000)\n",
    "\n",
    "hep.histplot(h);"
   ]
  },
  {
   "cell_type": "markdown",
   "id": "eabcf565",
   "metadata": {},
   "source": [
    "# Better histogramming with hist"
   ]
  },
  {
   "cell_type": "code",
   "execution_count": null,
   "id": "0db78d21",
   "metadata": {},
   "outputs": [],
   "source": [
    "import hist"
   ]
  },
  {
   "cell_type": "code",
   "execution_count": null,
   "id": "4b3d8004",
   "metadata": {},
   "outputs": [],
   "source": [
    "# histogram creation\n",
    "h = hist.Hist(\n",
    "    hist.axis.Regular(10, 0, 10, name=\"x\", label=\"x-axis\"),\n",
    "#     hist.axis.Variable([0, 1, 2, 5, 10], name=\"y\", label=\"y-axis\"),\n",
    "    hist.storage.Int64()\n",
    ")\n",
    "h"
   ]
  },
  {
   "cell_type": "code",
   "execution_count": null,
   "id": "d03b042c",
   "metadata": {},
   "outputs": [],
   "source": [
    "# basic filling\n",
    "h.fill([1, 4, 6], \n",
    "#       [3, 5, 2]\n",
    "      )\n",
    "h"
   ]
  },
  {
   "cell_type": "code",
   "execution_count": null,
   "id": "101cf2eb",
   "metadata": {},
   "outputs": [],
   "source": [
    "# Filling by names is possible for better bookkeeping:\n",
    "h.fill(x=[1, 5, 5, 7], \n",
    "#        y=[3, 5, 2]\n",
    "      )\n",
    "h"
   ]
  },
  {
   "cell_type": "code",
   "execution_count": null,
   "id": "fd025e76",
   "metadata": {},
   "outputs": [],
   "source": [
    "# information access\n",
    "h.values()"
   ]
  },
  {
   "cell_type": "code",
   "execution_count": null,
   "id": "6f0920f1",
   "metadata": {},
   "outputs": [],
   "source": [
    "h.axes[0]"
   ]
  },
  {
   "cell_type": "code",
   "execution_count": null,
   "id": "39e5a1ea",
   "metadata": {},
   "outputs": [],
   "source": [
    "h.axes[0].edges"
   ]
  },
  {
   "cell_type": "code",
   "execution_count": null,
   "id": "6e922f33",
   "metadata": {},
   "outputs": [],
   "source": [
    "# Print it (to CLI)\n",
    "h.show(columns=50)"
   ]
  },
  {
   "cell_type": "markdown",
   "id": "fcd28543",
   "metadata": {},
   "source": [
    "## Quick hist creation"
   ]
  },
  {
   "cell_type": "code",
   "execution_count": null,
   "id": "b41ae38b",
   "metadata": {},
   "outputs": [],
   "source": [
    "# histogram creation\n",
    "h = hist.new.Regular(10, 0, 10, name=\"x\", label=\"x-axis\") \\\n",
    "    .Variable(range(10), name=\"y\", label=\"y-axis\") \\\n",
    "    .Int64().fill(*np.random.multivariate_normal([4, 6], [[2, 0], [0, 1]], 10000).T)\n",
    "    \n",
    "h"
   ]
  },
  {
   "cell_type": "code",
   "execution_count": null,
   "id": "9e9cc940",
   "metadata": {},
   "outputs": [],
   "source": [
    "# even quicker\n",
    "h = hist.new.Reg(10, 0, 10).Var(range(10)).Int64() \\\n",
    "#     .fill(*np.random.multivariate_normal([4, 6], [[2, 0], [0, 1]], 10000).T)\n",
    "h"
   ]
  },
  {
   "cell_type": "markdown",
   "id": "3560f41c",
   "metadata": {},
   "source": [
    "## Axis types "
   ]
  },
  {
   "cell_type": "code",
   "execution_count": null,
   "id": "316254a0",
   "metadata": {},
   "outputs": [],
   "source": [
    "axis0 = hist.axis.Regular(10, -5, 5, overflow=False, underflow=False, name=\"A\")\n",
    "# axis1 = hist.axis.Boolean(name=\"B\")\n",
    "axis2 = hist.axis.Variable(range(10), name=\"C\")\n",
    "# axis3 = hist.axis.Integer(-5, 5, overflow=False, underflow=False, name=\"D\")\n",
    "axis4 = hist.axis.IntCategory(range(10), name=\"E\")\n",
    "axis5 = hist.axis.StrCategory([\"T\", \"F\"], name=\"F\")"
   ]
  },
  {
   "cell_type": "code",
   "execution_count": null,
   "id": "2ba4da5f",
   "metadata": {},
   "outputs": [],
   "source": [
    "# Growth!\n",
    "h = hist.new.Reg(10, 0, 10).StrCat([], growth=True).Weight()\n",
    "h.fill(np.random.normal(5, 2, 1000), \"A\")\n",
    "h.fill(np.random.normal(7, 2, 1000), \"B\")"
   ]
  },
  {
   "cell_type": "markdown",
   "id": "652ed676",
   "metadata": {},
   "source": [
    "## Storage types"
   ]
  },
  {
   "cell_type": "markdown",
   "id": "d86f33d9",
   "metadata": {},
   "source": [
    "A number of possible storage type exist: `Double`, `Unlimited`, `Int64`, `AutomicInt64`, `Weight`, `Mean`, and `WeightedMean`."
   ]
  },
  {
   "cell_type": "markdown",
   "id": "a5723957",
   "metadata": {},
   "source": [
    "In practice you will always use `Weight()`"
   ]
  },
  {
   "cell_type": "code",
   "execution_count": null,
   "id": "218885b6",
   "metadata": {},
   "outputs": [],
   "source": [
    "hist.new.Reg(10, 0, 10).Weight().fill([1,2,3,5], weight=[1,1,1,0.5])"
   ]
  },
  {
   "cell_type": "code",
   "execution_count": null,
   "id": "a2822d1b",
   "metadata": {},
   "outputs": [],
   "source": [
    "hist.new.Reg(10, 0, 10).Weight().fill([1,2,3,5])"
   ]
  },
  {
   "cell_type": "markdown",
   "id": "10f5926e",
   "metadata": {},
   "source": [
    "## Hist manipulation and UHI"
   ]
  },
  {
   "cell_type": "markdown",
   "id": "6d793cad",
   "metadata": {},
   "source": [
    "https://hist.readthedocs.io/en/latest/user-guide"
   ]
  },
  {
   "cell_type": "markdown",
   "id": "5b93128d",
   "metadata": {},
   "source": [
    "Yes, we've had one documentation, but what about another one..."
   ]
  },
  {
   "cell_type": "markdown",
   "id": "68425ef7",
   "metadata": {},
   "source": [
    "https://uhi.readthedocs.io/en/latest/"
   ]
  },
  {
   "cell_type": "code",
   "execution_count": null,
   "id": "53215627",
   "metadata": {},
   "outputs": [],
   "source": [
    "# example histogram\n",
    "h = hist.new.Reg(10, 0, 10, name=\"x\") \\\n",
    "    .Var(range(10), name=\"y\") \\\n",
    "    .Var(range(10), name=\"z\") \\\n",
    "    .Weight().fill(*np.random.multivariate_normal([4, 6, 4], np.eye(3), 100000).T)\n",
    "    \n",
    "h"
   ]
  },
  {
   "cell_type": "code",
   "execution_count": null,
   "id": "71e8ca3d",
   "metadata": {},
   "outputs": [],
   "source": [
    "# Project on an axis\n",
    "h.project(\"x\")"
   ]
  },
  {
   "cell_type": "code",
   "execution_count": null,
   "id": "b24025dc",
   "metadata": {},
   "outputs": [],
   "source": [
    "# Slicing (applying cuts)\n",
    "h[5:, :, sum]"
   ]
  },
  {
   "cell_type": "code",
   "execution_count": null,
   "id": "ffce0d6f",
   "metadata": {},
   "outputs": [],
   "source": [
    "# Indexing by bin vs value\n",
    "h[5:, 5j:, sum]"
   ]
  },
  {
   "cell_type": "code",
   "execution_count": null,
   "id": "eb9a3e8e",
   "metadata": {},
   "outputs": [],
   "source": [
    "# Dictionary access\n",
    "h[{\"y\": 5, \"z\": sum}]"
   ]
  },
  {
   "cell_type": "code",
   "execution_count": null,
   "id": "91aa8f29",
   "metadata": {},
   "outputs": [],
   "source": [
    "# More robust slicing and  \n",
    "s = hist.tag.Slicer()\n",
    "s"
   ]
  },
  {
   "cell_type": "code",
   "execution_count": null,
   "id": "7564106c",
   "metadata": {},
   "outputs": [],
   "source": [
    "h[{\"z\": sum, \"y\": s[:hist.loc(5):hist.sum]}]"
   ]
  },
  {
   "cell_type": "markdown",
   "id": "888bba9c",
   "metadata": {},
   "source": [
    "## Mind the flow bins!"
   ]
  },
  {
   "cell_type": "code",
   "execution_count": null,
   "id": "b0653956",
   "metadata": {},
   "outputs": [],
   "source": [
    "h[sum, sum, :].values()"
   ]
  },
  {
   "cell_type": "code",
   "execution_count": null,
   "id": "c17eae4c",
   "metadata": {},
   "outputs": [],
   "source": [
    "h[sum, sum, :].values(flow=True)"
   ]
  },
  {
   "cell_type": "code",
   "execution_count": null,
   "id": "0c3fe281",
   "metadata": {},
   "outputs": [],
   "source": [
    "h[sum, 0:len:sum, :].values(flow=True)"
   ]
  },
  {
   "cell_type": "code",
   "execution_count": null,
   "id": "73d8e00d",
   "metadata": {},
   "outputs": [],
   "source": [
    "h[sum, sum, :].values(flow=True) - h[sum, 0:len:sum, :].values(flow=True)"
   ]
  },
  {
   "cell_type": "code",
   "execution_count": null,
   "id": "34307226",
   "metadata": {},
   "outputs": [],
   "source": [
    "# Doesn't work in dict-access\n",
    "# h[{0: 0:len:sum}] "
   ]
  },
  {
   "cell_type": "code",
   "execution_count": null,
   "id": "3b2b5ba4",
   "metadata": {},
   "outputs": [],
   "source": [
    "# Meanwhile slicer allows this syntax in dict-access\n",
    "h[{0: s[0:len:sum]}]"
   ]
  },
  {
   "cell_type": "code",
   "execution_count": null,
   "id": "4a4b33c0",
   "metadata": {},
   "outputs": [],
   "source": [
    "# If you know you won't need them, you can skip flow bins\n",
    "hist.new.Reg(10, 0, 10, flow=False).Weight()"
   ]
  },
  {
   "cell_type": "markdown",
   "id": "86d4055b",
   "metadata": {},
   "source": [
    " ## Hist plots with mplhep"
   ]
  },
  {
   "cell_type": "code",
   "execution_count": null,
   "id": "e7e863cb",
   "metadata": {},
   "outputs": [],
   "source": [
    "h = hist.new.Reg(10, 0, 10).Weight().fill(np.random.normal(5, 1, 1000))"
   ]
  },
  {
   "cell_type": "code",
   "execution_count": null,
   "id": "52294ffc",
   "metadata": {},
   "outputs": [],
   "source": [
    "# Plot it\n",
    "h.plot(color='red', density=True);"
   ]
  },
  {
   "cell_type": "code",
   "execution_count": null,
   "id": "a4970d1b",
   "metadata": {},
   "outputs": [],
   "source": [
    "#equivalent to  \n",
    "hep.histplot(h, color='red', density=True)"
   ]
  },
  {
   "cell_type": "code",
   "execution_count": null,
   "id": "526ce8eb",
   "metadata": {},
   "outputs": [],
   "source": [
    "# Access and modify artists\n",
    "art = h.plot(color='red', density=True);\n",
    "plt.setp(art[0].stairs, edgecolor='blue', fill=True, facecolor='lightgreen', hatch='///');"
   ]
  },
  {
   "cell_type": "markdown",
   "id": "bbff9946",
   "metadata": {},
   "source": [
    "## N-D Histograms are cool"
   ]
  },
  {
   "cell_type": "code",
   "execution_count": null,
   "id": "1df6a615",
   "metadata": {},
   "outputs": [],
   "source": [
    "# Create a new hist\n",
    "h2d = hist.new.Reg(10, 0, 10, name='x').StrCat([\"A\", \"B\"], growth=True, name='dataset').Weight()\n",
    "h2d"
   ]
  },
  {
   "cell_type": "code",
   "execution_count": null,
   "id": "19c812c3",
   "metadata": {},
   "outputs": [],
   "source": [
    "# Fill it\n",
    "h2d.fill(np.random.normal(3, 1, 1000), \"A\")\n",
    "h2d.fill(np.random.normal(5, 1, 3000), \"B\")\n",
    "h2d.fill(np.random.normal(7, 1, 2000), \"C\")\n",
    "h2d"
   ]
  },
  {
   "cell_type": "code",
   "execution_count": null,
   "id": "a76ebc94",
   "metadata": {},
   "outputs": [],
   "source": [
    "h2d[:6, [\"A\", \"B\"]].plot(stack=True, histtype='step', sort='y_r');\n",
    "plt.legend()"
   ]
  },
  {
   "cell_type": "code",
   "execution_count": null,
   "id": "2ff6d513",
   "metadata": {},
   "outputs": [],
   "source": [
    "hep.hist2dplot(h2d, labels=True);"
   ]
  },
  {
   "cell_type": "markdown",
   "id": "84caa02f",
   "metadata": {},
   "source": [
    "# Analysis-like example"
   ]
  },
  {
   "cell_type": "code",
   "execution_count": null,
   "id": "6560726c",
   "metadata": {},
   "outputs": [],
   "source": [
    "hn = (hist.new.Reg(100, 0, 100, name='x', label='Observable')\n",
    "      .Var([0, 0.2, 0.5, 0.9, 1], name=\"tag\", label=\"Some MVA\")\n",
    "      .StrCat([\"A\"], growth=True, name='dataset')\n",
    "      .IntCat([0, 1, 2, 3], name='region')\n",
    "      .StrCat([\"A\"], growth=True, name='syst', label='Systematic')\n",
    "      .Weight()\n",
    "     )"
   ]
  },
  {
   "cell_type": "code",
   "execution_count": null,
   "id": "77952be3",
   "metadata": {},
   "outputs": [],
   "source": [
    "# Small random letter helper\n",
    "def rnd_letters(a=\"A\", z=\"Z\", N=10):\n",
    "    A, Z = np.array([a, z]).view(\"int32\") \n",
    "    return list(np.random.randint(low=A,high=Z,size=N,dtype=\"int32\").view(f\"U{N}\")[0])\n",
    "rnd_letters(\"C\", \"F\")"
   ]
  },
  {
   "cell_type": "code",
   "execution_count": null,
   "id": "9d55e692",
   "metadata": {},
   "outputs": [],
   "source": [
    "# And fill it\n",
    "N = 400000\n",
    "for sample in set(rnd_letters(\"A\", \"G\", 500)):\n",
    "    hn.fill(x = np.random.normal(np.random.randint(20, 80, 1), 10, N),\n",
    "            tag = np.random.uniform(0, 1, N),\n",
    "            dataset = sample,\n",
    "            region=np.random.randint(0, 4, N),\n",
    "            syst = rnd_letters(\"P\", \"Z\", N=N)\n",
    "            )\n",
    "hn"
   ]
  },
  {
   "cell_type": "code",
   "execution_count": null,
   "id": "062d70e1",
   "metadata": {},
   "outputs": [],
   "source": [
    "# Simple slices\n",
    "hn[:, 0.5j:len:sum, :, 0, \"X\"]"
   ]
  },
  {
   "cell_type": "code",
   "execution_count": null,
   "id": "7f1248f8",
   "metadata": {},
   "outputs": [],
   "source": [
    "# Slice by name\n",
    "s = hist.tag.Slicer()\n",
    "hn[{'tag': s[0.5j:len:sum], 'region': 0, 'syst': \"X\"}].plot();\n",
    "plt.legend();"
   ]
  },
  {
   "cell_type": "markdown",
   "id": "a086adbc",
   "metadata": {},
   "source": [
    "### Scale \"sample\" by \"cross-section\""
   ]
  },
  {
   "cell_type": "code",
   "execution_count": null,
   "id": "8c7adbac",
   "metadata": {},
   "outputs": [],
   "source": [
    "hn[{'dataset': \"A\"}] = hn[{'dataset': \"A\"}].view() * 2.5\n",
    "\n",
    "hn[{'tag': s[0.5j:len:sum], 'region': 0, 'syst': \"X\"}].plot();\n",
    "plt.legend();"
   ]
  },
  {
   "cell_type": "markdown",
   "id": "8a503acb",
   "metadata": {},
   "source": [
    "### Group datasets (to be replaced by native hist function)"
   ]
  },
  {
   "cell_type": "code",
   "execution_count": null,
   "id": "8c881f2b",
   "metadata": {},
   "outputs": [],
   "source": [
    "def groupby(h, groupmap, axis='dataset'):\n",
    "    new = hist.Hist(*[ax for ax in h.axes if ax.name != axis], \n",
    "                hist.axis.StrCategory(groupmap.keys(), name=axis, growth=True), \n",
    "                hist.storage.Weight()\n",
    "          )\n",
    "\n",
    "    for name, cats in groupmap.items():\n",
    "        grouped = sum([h[{axis: name}] for name in cats])\n",
    "        new[{axis: name}] = grouped.view(flow=True)\n",
    "    return new\n",
    "\n",
    "groupby(hn, {\"d1\": [\"A\", \"B\", \"C\"], 'd2': [\"D\", \"E\", 'F']})[{'tag': s[0.5j:len:sum], 'region': 0, 'syst': \"X\"}].plot();\n",
    "plt.legend();"
   ]
  },
  {
   "cell_type": "markdown",
   "id": "226dc054",
   "metadata": {},
   "source": [
    "### Desired end goal - 1D templates of each sample, passing a cut, per region per systematic"
   ]
  },
  {
   "cell_type": "code",
   "execution_count": null,
   "id": "8e92eb38",
   "metadata": {},
   "outputs": [],
   "source": [
    "cut = {'tag': s[0.5j:len:sum]} # Events passing 0.5 threshold\n",
    "\n",
    "templates = {}\n",
    "for sample in hn.axes['dataset']:\n",
    "    for region in hn.axes['region']:\n",
    "        for syst in hn.axes['syst']:\n",
    "            template_name = f\"region{region}_{sample}_sys{syst}\"\n",
    "            templates[template_name] = hn[{**cut, 'dataset': sample, 'region': region, 'syst': syst}]"
   ]
  },
  {
   "cell_type": "code",
   "execution_count": null,
   "id": "9087e40b",
   "metadata": {},
   "outputs": [],
   "source": [
    "templates['region0_B_sysX']"
   ]
  },
  {
   "cell_type": "markdown",
   "id": "8364021a",
   "metadata": {},
   "source": [
    "### Save it via uproot"
   ]
  },
  {
   "cell_type": "code",
   "execution_count": null,
   "id": "4408878c",
   "metadata": {},
   "outputs": [],
   "source": [
    "import uproot \n",
    "fout = uproot.recreate(\"some_file.root\")\n",
    "fout[\"my_hist\"] = templates['region0_B_sysX']\n",
    "fout.close()"
   ]
  },
  {
   "cell_type": "code",
   "execution_count": null,
   "id": "b59a15cd",
   "metadata": {},
   "outputs": [],
   "source": [
    "fin = uproot.open(\"some_file.root\")\n",
    "hep.histplot(fin['my_hist'])"
   ]
  },
  {
   "cell_type": "markdown",
   "id": "aa390a1f",
   "metadata": {},
   "source": [
    "# Styling with mplhep\n",
    "- Primary purpose of `mplhep` is to serve and distribute styles \n",
    "    - **ALICE**\n",
    "    - **ATLAS**\n",
    "    - **CMS**\n",
    "    - **LHCb**\n",
    "- To ensure plots looks the same on any framework fonts need to be included\n",
    " - I am liable to go on a rant, so suffice to say:\n",
    " - We package an open look-alike of Helvetica called Tex Gyre Heros"
   ]
  },
  {
   "cell_type": "code",
   "execution_count": null,
   "id": "924c256d",
   "metadata": {},
   "outputs": [],
   "source": [
    "hep.style.use([hep.style.CMS, {'figure.figsize': (8, 8)}])\n",
    "hep.histplot(np.histogram(np.random.normal(10, 3, 1000)), histtype='fill');\n",
    "hep.cms.label();"
   ]
  },
  {
   "cell_type": "markdown",
   "id": "7bc382e6",
   "metadata": {},
   "source": [
    "# CMS Colors - automatically with `hep.style.CMS`"
   ]
  },
  {
   "cell_type": "markdown",
   "id": "7c744770",
   "metadata": {},
   "source": [
    "- Data should be always shown in black. Basic color recommendations with examples are found below.\n",
    "\n",
    "- Categorical Data (e.g. 1D Stackplots): Use the color scheme suggested by M. Petroff in arXiv:2107.02270v2 and available on GitHub (MIT License). \n",
    "- Specifically you should use the 6-color scheme:\n",
    "`[\"#5790fc\", \"#f89c20\", \"#e42536\", \"#964a8b\", \"#9c9ca1\", \"#7a21dd\"]`"
   ]
  },
  {
   "cell_type": "code",
   "execution_count": null,
   "id": "cadb8b74",
   "metadata": {},
   "outputs": [],
   "source": [
    "from matplotlib.colors import ListedColormap\n",
    "petroff6 = ListedColormap([\"#5790fc\", \"#f89c20\", \"#e42536\", \"#964a8b\", \"#9c9ca1\", \"#7a21dd\"])\n",
    "petroff6"
   ]
  },
  {
   "cell_type": "code",
   "execution_count": null,
   "id": "2a95ae1d",
   "metadata": {},
   "outputs": [],
   "source": [
    "hn[{'tag': s[0.5j:len:sum], 'region': 0, 'syst': \"X\", 'x': s[::hist.tag.rebin(3)]}].plot(histtype='fill', stack=True);\n",
    "plt.legend();"
   ]
  },
  {
   "cell_type": "markdown",
   "id": "d9fd4f1b",
   "metadata": {},
   "source": [
    " - or if more colors are needed the 10-color scheme:\n",
    "    ```\n",
    "    [\"#3f90da\", \"#ffa90e\", \"#bd1f01\", \"#94a4a2\", \"#832db6\", \"#a96b59\", \"#e76300\", \"#b9ac70\", \"#717581\", \"#92dadd\"]\n",
    "    ```"
   ]
  },
  {
   "cell_type": "code",
   "execution_count": null,
   "id": "4b80d810",
   "metadata": {},
   "outputs": [],
   "source": [
    "from matplotlib.colors import ListedColormap\n",
    "petroff10 = ListedColormap([\"#3f90da\", \"#ffa90e\", \"#bd1f01\", \"#94a4a2\", \"#832db6\", \"#a96b59\", \"#e76300\", \"#b9ac70\", \"#717581\", \"#92dadd\"])\n",
    "petroff10"
   ]
  },
  {
   "cell_type": "markdown",
   "id": "1743af6a",
   "metadata": {},
   "source": [
    "# 2D plot"
   ]
  },
  {
   "cell_type": "code",
   "execution_count": null,
   "id": "e53677c5",
   "metadata": {},
   "outputs": [],
   "source": [
    "hn[{'tag': s[0.5j:len:sum], 'region': 0, 'syst': \"X\", 'x': s[::hist.tag.rebin(3)]}].plot2d()"
   ]
  },
  {
   "cell_type": "code",
   "execution_count": null,
   "id": "b7de8ab8",
   "metadata": {},
   "outputs": [],
   "source": []
  }
 ],
 "metadata": {
  "kernelspec": {
   "display_name": "HATS 2024",
   "language": "python",
   "name": "hats2024"
  },
  "language_info": {
   "codemirror_mode": {
    "name": "ipython",
    "version": 3
   },
   "file_extension": ".py",
   "mimetype": "text/x-python",
   "name": "python",
   "nbconvert_exporter": "python",
   "pygments_lexer": "ipython3",
   "version": "3.12.4"
  }
 },
 "nbformat": 4,
 "nbformat_minor": 5
}
